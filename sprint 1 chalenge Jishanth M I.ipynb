{
 "cells": [
  {
   "cell_type": "code",
   "execution_count": 1,
   "id": "4253fd00",
   "metadata": {},
   "outputs": [],
   "source": [
    "import pandas as pd\n",
    "import numpy as np"
   ]
  },
  {
   "cell_type": "code",
   "execution_count": 10,
   "id": "46ad9e71",
   "metadata": {},
   "outputs": [
    {
     "name": "stdout",
     "output_type": "stream",
     "text": [
      "average age of employees in the IT firm:  28.26\n"
     ]
    }
   ],
   "source": [
    "# Task 1\n",
    "#Calculate the average age of the employees in the IT firm.\n",
    "\n",
    "data= np.genfromtxt(r\"C:\\Users\\Jishanth M I\\Downloads\\DS1_C4_S1_Employee_Data_Challenge.csv\", delimiter=',',skip_header=1)\n",
    "\n",
    "average_age = np.mean(data[:,1])\n",
    "\n",
    "print(\"average age of employees in the IT firm: \", average_age)"
   ]
  },
  {
   "cell_type": "code",
   "execution_count": 12,
   "id": "c0ad202a",
   "metadata": {},
   "outputs": [
    {
     "name": "stdout",
     "output_type": "stream",
     "text": [
      "Employees over 25 years old:  [ 2.  3.  4.  5.  6.  7.  9. 10. 11. 12. 14. 15. 16. 17. 20. 21. 22. 24.\n",
      " 25. 26. 27. 28. 29. 30. 31. 32. 33. 37. 38. 40. 41. 42. 43. 44. 45. 46.\n",
      " 49. 50.]\n",
      "Count of employees over 25 years old: (38,)\n"
     ]
    }
   ],
   "source": [
    "# Task 2\n",
    "#Display the employee IDs/code of those employees who are over 25 years of age. Find the count of these employees.\n",
    "\n",
    "over_25 = data[data[:, 1] > 25]\n",
    "\n",
    "employee_codes = over_25[:, 0]\n",
    "\n",
    "count = employee_codes.shape\n",
    "\n",
    "print(\"Employees over 25 years old: \", employee_codes) \n",
    "print(\"Count of employees over 25 years old:\", count)"
   ]
  },
  {
   "cell_type": "code",
   "execution_count": 13,
   "id": "30cce8fd",
   "metadata": {},
   "outputs": [
    {
     "name": "stdout",
     "output_type": "stream",
     "text": [
      "Number of employees between 30 and 35 years old: 12\n",
      "Employees between 30 and 35 years old:  [ 3. 10. 15. 16. 32. 41. 42. 43. 44. 45. 49. 50.]\n"
     ]
    }
   ],
   "source": [
    "# Task 3\n",
    "#Calculate the total number of employees who are in the age group of 30-35 years.\n",
    "#Display the employee IDs/codes of these employees.\n",
    "\n",
    "\n",
    "#Finding employees between 30 and 35 years old\n",
    "over_30_to_35= data[(data[:, 1] >= 30) & (data[:, 1] <= 35)]\n",
    "\n",
    "# Getting employee IDs \n",
    "employee_codes = over_30_to_35[:, 0]\n",
    "\n",
    "# Getting number of employees \n",
    "num_employees= employee_codes.shape[0]\n",
    "\n",
    "print(\"Number of employees between 30 and 35 years old:\", num_employees) \n",
    "print(\"Employees between 30 and 35 years old: \", employee_codes)"
   ]
  },
  {
   "cell_type": "code",
   "execution_count": null,
   "id": "7a913129",
   "metadata": {},
   "outputs": [],
   "source": []
  }
 ],
 "metadata": {
  "kernelspec": {
   "display_name": "Python 3 (ipykernel)",
   "language": "python",
   "name": "python3"
  },
  "language_info": {
   "codemirror_mode": {
    "name": "ipython",
    "version": 3
   },
   "file_extension": ".py",
   "mimetype": "text/x-python",
   "name": "python",
   "nbconvert_exporter": "python",
   "pygments_lexer": "ipython3",
   "version": "3.11.3"
  }
 },
 "nbformat": 4,
 "nbformat_minor": 5
}
