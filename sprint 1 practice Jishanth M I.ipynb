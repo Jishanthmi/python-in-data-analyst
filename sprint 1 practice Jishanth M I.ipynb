{
 "cells": [
  {
   "cell_type": "code",
   "execution_count": 27,
   "id": "230f2cbc",
   "metadata": {},
   "outputs": [],
   "source": [
    "import numpy as np"
   ]
  },
  {
   "cell_type": "code",
   "execution_count": 6,
   "id": "7b1d1993",
   "metadata": {},
   "outputs": [
    {
     "name": "stdout",
     "output_type": "stream",
     "text": [
      "HR department employees ids:  [1 2 3]\n",
      "No of employees in HR department:  3\n",
      "IT department employees ids:  [ 4  5  6  7  8  9 10 11 12 13 14 15 16 17 18]\n",
      "No of employees in IT department:  15\n",
      "Finance department employees ids:  [19 20 21 22 23]\n",
      "No of employees in Finance department:  5\n",
      "Sales department employees ids:  [24 25 26 27 28 29 30]\n",
      "No of employees in Sales department:  7\n"
     ]
    }
   ],
   "source": [
    "# Task 1\n",
    "#The company has hired 30 candidates recently. Assign the employee IDs to these 30 candidates as per the details below. Save the employee IDs in separate 1D arrays, one for each department, and print them.\n",
    "\n",
    "HR= np.arange(1,4)\n",
    "IT= np.arange(4,19)\n",
    "Finance= np.arange(19,24)\n",
    "Sales= np.arange(24,31)\n",
    "\n",
    "HR_dept= HR.shape[0]\n",
    "IT_dept= IT.shape[0]\n",
    "Finance_dept= Finance.shape[0]\n",
    "Sales_dept= Sales.shape[0]\n",
    "\n",
    "print(\"HR department employees ids: \",HR)\n",
    "print(\"No of employees in HR department: \",HR_dept)\n",
    "print(\"IT department employees ids: \",IT)\n",
    "print(\"No of employees in IT department: \",IT_dept)\n",
    "print(\"Finance department employees ids: \",Finance)\n",
    "print(\"No of employees in Finance department: \",Finance_dept)\n",
    "print(\"Sales department employees ids: \",Sales)\n",
    "print(\"No of employees in Sales department: \",Sales_dept)"
   ]
  },
  {
   "cell_type": "code",
   "execution_count": 7,
   "id": "beb6eb12",
   "metadata": {},
   "outputs": [
    {
     "name": "stdout",
     "output_type": "stream",
     "text": [
      "HR department salaries:  [50 60 57]\n",
      "No of employees in HR department:  3\n",
      "IT department salaries:  [15 67]\n",
      "No of employees in IT department:  2\n",
      "Finance department salaries:  [65 50 70 87 60]\n",
      "No of employees in Finance department:  5\n",
      "Sales department salaries:  [50 60 65 90 56 65 71]\n",
      "No of employees in Sales department:  7\n"
     ]
    }
   ],
   "source": [
    "# Task 2\n",
    "#Create four different 1D arrays to hold only the salaries of the employees as per the details below and print them.\n",
    "\n",
    "hr_salaries= np.array([50,60,57])\n",
    "it_salaries= np.array([15,67])\n",
    "finance_salaries= np.array([65,50,70,87,60])\n",
    "sales_salaries= np.array([50,60,65,90,56,65,71])\n",
    "\n",
    "hr_employees= hr_salaries.shape[0]\n",
    "it_employees= it_salaries.shape[0]\n",
    "finance_employees= finance_salaries.shape[0]\n",
    "sales_employees= sales_salaries.shape[0]\n",
    "\n",
    "print(\"HR department salaries: \",hr_salaries)\n",
    "print(\"No of employees in HR department: \",hr_employees)\n",
    "print(\"IT department salaries: \",it_salaries)\n",
    "print(\"No of employees in IT department: \",it_employees)\n",
    "print(\"Finance department salaries: \",finance_salaries)\n",
    "print(\"No of employees in Finance department: \",finance_employees)\n",
    "print(\"Sales department salaries: \",sales_salaries)\n",
    "print(\"No of employees in Sales department: \",sales_employees)"
   ]
  },
  {
   "cell_type": "code",
   "execution_count": 13,
   "id": "0cf11e90",
   "metadata": {},
   "outputs": [
    {
     "name": "stdout",
     "output_type": "stream",
     "text": [
      "HR department average salaries: 55.666666666666664\n",
      "IT department average salaries: 41.0\n",
      "Finance department average salaries: 66.4\n",
      "Sales department average salaries:  65.28571428571429\n",
      "The IT department has highest average salary expense on the employees is: 66.4\n"
     ]
    }
   ],
   "source": [
    "# Task 3\n",
    "#Calculate the department-wise average salary expenses on the 30 employees. Also, determine the department with the highest average salary expense on the employees.\n",
    "\n",
    "hr_avg_salaries= np. mean(hr_salaries)\n",
    "it_avg_salaries= np.mean(it_salaries)\n",
    "finance_avg_salaries= np.mean(finance_salaries) \n",
    "sales_avg_salaries= np.mean(sales_salaries)\n",
    "highest_average_salary= np.array([hr_avg_salaries, it_avg_salaries, finance_avg_salaries, sales_avg_salaries])\n",
    "\n",
    "print(\"HR department average salaries:\", hr_avg_salaries)\n",
    "print(\"IT department average salaries:\", it_avg_salaries)\n",
    "print(\"Finance department average salaries:\", finance_avg_salaries)\n",
    "print(\"Sales department average salaries: \", sales_avg_salaries)\n",
    "print(\"The IT department has highest average salary expense on the employees is:\", np.max(highest_average_salary))"
   ]
  },
  {
   "cell_type": "code",
   "execution_count": 17,
   "id": "0e7ba054",
   "metadata": {},
   "outputs": [
    {
     "name": "stdout",
     "output_type": "stream",
     "text": [
      "Highest salary in HR department is:  68\n",
      "Highest salary in Finance department is: 87\n"
     ]
    }
   ],
   "source": [
    "# Task 4\n",
    "#List the highest salaries in the HR and Finance departments.\n",
    "\n",
    "hr_salaries= np.array([58, 68, 57])\n",
    "finance_alaries = np.array([65, 50, 70, 87, 60])\n",
    "highest_hr_salaries= np.max(hr_salaries)\n",
    "highest_finance_salaries= np.max(finance_salaries)\n",
    "\n",
    "print(\"Highest salary in HR department is: \", highest_hr_salaries)\n",
    "print(\"Highest salary in Finance department is:\", highest_finance_salaries)"
   ]
  },
  {
   "cell_type": "code",
   "execution_count": 24,
   "id": "98cad8f9",
   "metadata": {},
   "outputs": [
    {
     "name": "stdout",
     "output_type": "stream",
     "text": [
      "Original IT salaries: [67 67 67 67 67 67 67 67 67 67 67 67 67 67 67]\n",
      "Updated IT salaries: [70.35 70.35 70.35 70.35 70.35 70.35 70.35 70.35 70.35 70.35 70.35 70.35\n",
      " 70.35 70.35 70.35]\n"
     ]
    }
   ],
   "source": [
    "# Task 5\n",
    "#The company has decided to give a joining/signing bonus worth 5% of the gross salary to those employees whose employees who belong to the IT department. Update the salary of such employees after adding the bonus. Display the updated salaries.\n",
    "\n",
    "it_salaries = np.full(15, 67) \n",
    "update_percentage= 0.05 \n",
    "updated_it_salaries= it_salaries + (it_salaries* update_percentage)\n",
    "print(\"Original IT salaries: {}\".format(it_salaries)) \n",
    "print(\"Updated IT salaries: {}\".format(updated_it_salaries))"
   ]
  },
  {
   "cell_type": "code",
   "execution_count": null,
   "id": "4a55a83e",
   "metadata": {},
   "outputs": [],
   "source": []
  }
 ],
 "metadata": {
  "kernelspec": {
   "display_name": "Python 3 (ipykernel)",
   "language": "python",
   "name": "python3"
  },
  "language_info": {
   "codemirror_mode": {
    "name": "ipython",
    "version": 3
   },
   "file_extension": ".py",
   "mimetype": "text/x-python",
   "name": "python",
   "nbconvert_exporter": "python",
   "pygments_lexer": "ipython3",
   "version": "3.11.3"
  }
 },
 "nbformat": 4,
 "nbformat_minor": 5
}
