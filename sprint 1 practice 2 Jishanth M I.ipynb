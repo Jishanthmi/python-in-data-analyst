{
 "cells": [
  {
   "cell_type": "code",
   "execution_count": 1,
   "id": "db2e4029",
   "metadata": {},
   "outputs": [],
   "source": [
    "import numpy as np"
   ]
  },
  {
   "cell_type": "code",
   "execution_count": 2,
   "id": "e06cd699",
   "metadata": {},
   "outputs": [
    {
     "name": "stdout",
     "output_type": "stream",
     "text": [
      "(400, 9)\n"
     ]
    }
   ],
   "source": [
    "# Task 1\n",
    "#Import the data file into a 2D array. Display the total number of rows and columns in the array.\n",
    "#Note: Use the below code to import the file into a 2D array. The data file and the Jupyter notebook must be in the same working directory.\n",
    "\n",
    "data=np.genfromtxt(r\"C:\\Users\\Jishanth M I\\Downloads\\DS1_C4_S1_AdmissionPredict_Data_Practice.csv\",delimiter=',',skip_header=1)\n",
    "total=data.shape\n",
    "print(total)"
   ]
  },
  {
   "cell_type": "code",
   "execution_count": 3,
   "id": "e99b58ca",
   "metadata": {},
   "outputs": [
    {
     "data": {
      "text/plain": [
       "array([337., 324., 316., 322., 314., 330., 321., 308., 302., 323., 325.,\n",
       "       327., 328., 307., 311., 314., 317., 319., 318., 303., 312., 325.,\n",
       "       328., 334., 336., 340., 322., 298., 295., 310., 300., 327., 338.,\n",
       "       340., 331., 320., 299., 300., 304., 307., 308., 316., 313., 332.,\n",
       "       326., 322., 329., 339., 321., 327., 313., 312., 334., 324., 322.,\n",
       "       320., 316., 298., 300., 311., 309., 307., 304., 315., 325., 325.,\n",
       "       327., 316., 318., 328., 332., 336., 321., 314., 314., 329., 327.,\n",
       "       301., 296., 294., 312., 340., 320., 322., 340., 319., 315., 317.,\n",
       "       314., 316., 318., 299., 298., 301., 303., 304., 306., 331., 332.,\n",
       "       323., 322., 312., 314., 317., 326., 316., 329., 338., 331., 304.,\n",
       "       305., 321., 301., 320., 311., 310., 299., 290., 296., 327., 335.,\n",
       "       334., 310., 308., 301., 300., 323., 319., 326., 333., 339., 303.,\n",
       "       309., 323., 333., 314., 312., 316., 326., 318., 329., 332., 331.,\n",
       "       340., 325., 320., 315., 326., 339., 311., 334., 332., 321., 324.,\n",
       "       326., 312., 315., 309., 306., 297., 315., 298., 318., 317., 329.,\n",
       "       322., 302., 313., 293., 311., 312., 334., 322., 323., 321., 320.,\n",
       "       329., 319., 309., 307., 300., 305., 299., 314., 316., 327., 317.,\n",
       "       335., 331., 324., 324., 323., 322., 336., 316., 307., 306., 310.,\n",
       "       311., 313., 317., 315., 340., 334., 298., 295., 315., 310., 305.,\n",
       "       301., 325., 328., 338., 333., 331., 330., 322., 321., 324., 312.,\n",
       "       313., 316., 324., 308., 305., 296., 306., 312., 318., 324., 313.,\n",
       "       319., 312., 304., 330., 326., 325., 329., 310., 299., 296., 317.,\n",
       "       324., 325., 314., 328., 316., 311., 324., 321., 320., 316., 318.,\n",
       "       335., 321., 307., 309., 324., 326., 331., 327., 312., 308., 324.,\n",
       "       325., 313., 312., 314., 327., 308., 306., 299., 294., 312., 315.,\n",
       "       322., 329., 320., 308., 304., 311., 317., 312., 321., 340., 331.,\n",
       "       336., 324., 314., 313., 307., 300., 302., 312., 316., 317., 310.,\n",
       "       320., 330., 305., 309., 319., 322., 323., 313., 321., 323., 325.,\n",
       "       312., 308., 320., 328., 311., 301., 305., 308., 298., 300., 324.,\n",
       "       327., 317., 323., 314., 305., 315., 326., 299., 295., 324., 297.,\n",
       "       327., 311., 308., 319., 312., 325., 319., 332., 323., 324., 312.,\n",
       "       326., 308., 305., 295., 316., 304., 299., 302., 313., 318., 325.,\n",
       "       303., 300., 297., 317., 327., 301., 314., 321., 322., 334., 338.,\n",
       "       306., 313., 330., 320., 311., 298., 301., 310., 324., 336., 321.,\n",
       "       315., 304., 297., 290., 303., 311., 322., 319., 324., 300., 340.,\n",
       "       335., 302., 307., 296., 320., 314., 318., 326., 317., 329., 324.,\n",
       "       325., 330., 312., 333.])"
      ]
     },
     "execution_count": 3,
     "metadata": {},
     "output_type": "execute_result"
    }
   ],
   "source": [
    "# Task 2\n",
    "#Display the GRE score of all the students\n",
    "#Note: Slice only one column from the 2D array\n",
    "\n",
    "\n",
    "data[:,1]"
   ]
  },
  {
   "cell_type": "code",
   "execution_count": 4,
   "id": "91017491",
   "metadata": {},
   "outputs": [
    {
     "name": "stdout",
     "output_type": "stream",
     "text": [
      "total number of students with der score greater than 320:  163\n"
     ]
    }
   ],
   "source": [
    "# Task 3\n",
    "#Find the total number of students who have a GRE score greater than 320,\n",
    "\n",
    "filter_data= data[data[:,1]> 320]\n",
    "num_students= filter_data.shape[0]\n",
    "\n",
    "print(\"total number of students with der score greater than 320: \",num_students)"
   ]
  },
  {
   "cell_type": "code",
   "execution_count": 5,
   "id": "84273bf5",
   "metadata": {},
   "outputs": [
    {
     "name": "stdout",
     "output_type": "stream",
     "text": [
      "total number of students with TOFEL score greater than 110 : 120\n",
      "admission chance of these students:  [92. 90. 84. 78. 70. 94. 95. 97. 94. 91. 90. 94. 87. 91. 86. 89. 78. 78.\n",
      " 72. 52. 55. 61. 78. 94. 96. 93. 72. 74. 96. 92. 94. 86. 90. 79. 74. 87.\n",
      " 91. 93. 94. 94. 85. 78. 84. 92. 96. 79. 89. 80. 90. 92. 97. 80. 81. 83.\n",
      " 96. 93. 94. 86. 81. 89. 89. 87. 85. 90. 89. 93. 93. 88. 90. 86. 94. 97.\n",
      " 97. 95. 96. 94. 93. 91. 76. 71. 82. 91. 88. 85. 86. 70. 76. 77. 93. 85.\n",
      " 90. 70. 83. 89. 80. 94. 93. 92. 89. 86. 90. 71. 80. 79. 80. 81. 80. 80.\n",
      " 83. 94. 93. 91. 86. 95. 96. 96. 84. 89. 91. 95.]\n",
      "index location of the students who have TOEFL score greater than 118 : [  1.   6.  12.  13.  22.  23.  24.  25.  26.  33.  34.  35.  44.  45.\n",
      "  47.  48.  50.  53.  54.  65.  66.  67.  70.  71.  72.  73.  76.  77.\n",
      "  82.  84.  85.  98.  99. 100. 105. 107. 108. 109. 121. 122. 127. 128.\n",
      " 129. 130. 131. 134. 135. 139. 142. 143. 144. 145. 146. 148. 149. 151.\n",
      " 152. 153. 165. 172. 174. 175. 176. 177. 186. 188. 189. 190. 191. 193.\n",
      " 194. 203. 204. 213. 214. 215. 216. 217. 223. 229. 230. 235. 236. 237.\n",
      " 238. 243. 244. 250. 254. 255. 260. 264. 269. 277. 284. 285. 286. 287.\n",
      " 288. 298. 299. 300. 308. 319. 320. 326. 329. 331. 336. 338. 362. 363.\n",
      " 366. 373. 385. 386. 393. 395. 398. 400.]\n"
     ]
    }
   ],
   "source": [
    "# Task 4\n",
    "#What is the chance of admission of the students who have a TOEFL score greater than 110? Display the admission chance as a percentage number by multiplying each value in the output by 100.\n",
    "\n",
    "filter_data= data[data[:,2]> 110] \n",
    "num_students = filter_data.shape[0] \n",
    "admission_chance= filter_data[:, -1] *100 \n",
    "index_location= filter_data[:, 0]\n",
    "\n",
    "print(\"total number of students with TOFEL score greater than 110 :\", num_students)\n",
    "print(\"admission chance of these students: \", admission_chance)\n",
    "print(\"index location of the students who have TOEFL score greater than 118 :\", index_location)"
   ]
  },
  {
   "cell_type": "code",
   "execution_count": 6,
   "id": "155322a1",
   "metadata": {},
   "outputs": [
    {
     "name": "stdout",
     "output_type": "stream",
     "text": [
      "The total number of students eligible for the scholarship is: 41\n",
      "The serial numbers of the eligible students are: [  1.  23.  24.  25.  26.  33.  53.  71.  82.  98.  99. 108. 109. 121.\n",
      " 122. 130. 139. 142. 144. 149. 152. 172. 177. 188. 194. 203. 204. 213.\n",
      " 214. 215. 216. 260. 286. 287. 326. 338. 362. 373. 386. 398. 400.]\n"
     ]
    }
   ],
   "source": [
    "# Task 5\n",
    "#The university decides. o offer a scholarship worth $1,000 to all those students who have a GRE score greater than 315, a TOEFL score greater than 115, and have some research experience. Determine the total number of students eligible for this scholarship. Also, display the serial number of these students.\n",
    "\n",
    "filter_data = data[(data[:,1]> 315) & (data[:,2]> 115) & (data[:,7] == 1)] \n",
    "num_students= filter_data.shape[0] \n",
    "serial_numbers= filter_data[:, 0] \n",
    "print(\"The total number of students eligible for the scholarship is:\", num_students) \n",
    "print(\"The serial numbers of the eligible students are:\", serial_numbers)"
   ]
  },
  {
   "cell_type": "code",
   "execution_count": null,
   "id": "eb3fb544",
   "metadata": {},
   "outputs": [],
   "source": []
  }
 ],
 "metadata": {
  "kernelspec": {
   "display_name": "Python 3 (ipykernel)",
   "language": "python",
   "name": "python3"
  },
  "language_info": {
   "codemirror_mode": {
    "name": "ipython",
    "version": 3
   },
   "file_extension": ".py",
   "mimetype": "text/x-python",
   "name": "python",
   "nbconvert_exporter": "python",
   "pygments_lexer": "ipython3",
   "version": "3.11.3"
  }
 },
 "nbformat": 4,
 "nbformat_minor": 5
}
