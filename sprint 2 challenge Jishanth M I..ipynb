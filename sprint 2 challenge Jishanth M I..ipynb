{
 "cells": [
  {
   "cell_type": "code",
   "execution_count": 1,
   "id": "ad337dbc",
   "metadata": {},
   "outputs": [],
   "source": [
    "import pandas as pd\n",
    "import numpy as np"
   ]
  },
  {
   "cell_type": "code",
   "execution_count": 2,
   "id": "66cf2d06",
   "metadata": {},
   "outputs": [
    {
     "name": "stdout",
     "output_type": "stream",
     "text": [
      "101    80121\n",
      "102    48483\n",
      "103    37077\n",
      "104    30660\n",
      "105    68536\n",
      "106    52666\n",
      "107    78703\n",
      "108    51036\n",
      "109    55643\n",
      "110    56990\n",
      "111    39967\n",
      "112    93822\n",
      "113    51406\n",
      "114    93947\n",
      "115    78373\n",
      "116    62765\n",
      "117    47536\n",
      "118    40528\n",
      "119    58780\n",
      "120    83197\n",
      "dtype: int64\n"
     ]
    }
   ],
   "source": [
    "# Task 1\n",
    "#The price of 20 such cars is between $30,000 and $100,000 for each car. The price data is provided as a list in the Jupyter notebook\n",
    "\n",
    "price_data = [80121, 48483, 37077, 30660, 68536, 52666, 78703, 51036, 55643, 56990, 39967, 93822, 51406, 93947, 78373, 62765, 47536, 40528, 58780, 83197]\n",
    "row_indexes = np.arange(101, 121)\n",
    "\n",
    "price_series = pd.Series(price_data, index=row_indexes)\n",
    "\n",
    "print(price_series)"
   ]
  },
  {
   "cell_type": "code",
   "execution_count": 3,
   "id": "d237172f",
   "metadata": {},
   "outputs": [
    {
     "name": "stdout",
     "output_type": "stream",
     "text": [
      "Car with lowest price: 104    30660\n",
      "dtype: int64\n",
      "Car with highest price: 114    93947\n",
      "dtype: int64\n"
     ]
    }
   ],
   "source": [
    "# Task 2\n",
    "#Identify the row indexes and prices of the cars with the highest price and the lowest price.\n",
    "\n",
    "lowest_price=price_series.sort_values(ascending= True)[0:1]\n",
    "lowest_price\n",
    "print(\"Car with lowest price:\",lowest_price)\n",
    "\n",
    "highest_price=price_series.sort_values(ascending= True)[-1:]\n",
    "highest_price\n",
    "print(\"Car with highest price:\",highest_price)"
   ]
  },
  {
   "cell_type": "code",
   "execution_count": 4,
   "id": "46ead780",
   "metadata": {},
   "outputs": [
    {
     "name": "stdout",
     "output_type": "stream",
     "text": [
      "Top 5 cars with highest value: \n"
     ]
    },
    {
     "data": {
      "text/plain": [
       "107    78703\n",
       "101    80121\n",
       "120    83197\n",
       "112    93822\n",
       "114    93947\n",
       "dtype: int64"
      ]
     },
     "execution_count": 4,
     "metadata": {},
     "output_type": "execute_result"
    }
   ],
   "source": [
    "# Task 3\n",
    "#Display the price of the top 5 cars with highest value, along with their row index\n",
    "\n",
    "highest_price_car=price_series.sort_values(ascending= True)[-5:]\n",
    "print(\"Top 5 cars with highest value: \")\n",
    "highest_price_car"
   ]
  },
  {
   "cell_type": "code",
   "execution_count": 6,
   "id": "136f2ccf",
   "metadata": {},
   "outputs": [
    {
     "name": "stdout",
     "output_type": "stream",
     "text": [
      "count is:  3\n",
      "car between 30000 and 40000:  103    37077\n",
      "104    30660\n",
      "111    39967\n",
      "dtype: int64\n"
     ]
    }
   ],
   "source": [
    "# Task 4\n",
    "#Display the prices of all cars priced between $30-40k along with the row indexes. Calculate and display the count of these cars.\n",
    "\n",
    "filtered_cars = price_series[price_series.between(30000,40000)]\n",
    "filtered_cars2 = price_series[price_series.between(30000,40000)].shape[0]\n",
    "print(\"count is: \",filtered_cars2)\n",
    "print(\"car between 30000 and 40000: \",filtered_cars)"
   ]
  },
  {
   "cell_type": "code",
   "execution_count": 8,
   "id": "28cc06c5",
   "metadata": {},
   "outputs": [
    {
     "name": "stdout",
     "output_type": "stream",
     "text": [
      "count is:  8\n",
      "prices of cars that are above average:  101    80121\n",
      "105    68536\n",
      "107    78703\n",
      "112    93822\n",
      "114    93947\n",
      "115    78373\n",
      "116    62765\n",
      "120    83197\n",
      "dtype: int64\n"
     ]
    }
   ],
   "source": [
    "# Task 5\n",
    "#Display the prices and row indexes of those cars that are priced above the average price of all cars. Display the count of such cars.\n",
    "\n",
    "average_price = price_series.mean()\n",
    "average_price_cars = price_series[price_series > average_price]\n",
    "average_price_cars1=  price_series[price_series > average_price].shape[0]\n",
    "print(\"count is: \",average_price_cars1)\n",
    "print(\"prices of cars that are above average: \",average_price_cars)"
   ]
  },
  {
   "cell_type": "code",
   "execution_count": 58,
   "id": "18e6abbe",
   "metadata": {},
   "outputs": [
    {
     "data": {
      "text/plain": [
       "101    80121\n",
       "102    48483\n",
       "103    37077\n",
       "104    30660\n",
       "105    68536\n",
       "106    52666\n",
       "107    78703\n",
       "108    51036\n",
       "109    55643\n",
       "110    56990\n",
       "111    39967\n",
       "112    93822\n",
       "113    51406\n",
       "114    93947\n",
       "115    78373\n",
       "116    62765\n",
       "117    47536\n",
       "118    40528\n",
       "119    58780\n",
       "120    83197\n",
       "201    34000\n",
       "202    45000\n",
       "203    54000\n",
       "dtype: int64"
      ]
     },
     "execution_count": 58,
     "metadata": {},
     "output_type": "execute_result"
    }
   ],
   "source": [
    "# Task 6\n",
    "#The car dealer needs to add three new cars with the row indexes 201, 202, and 203 priced at $34,000, $45,000, and $54,000, respectively. Update the existing data and display the prices along with the row indexes for all cars.\n",
    "\n",
    "new_price=[34000,45000,54000]\n",
    "new_car=[201,202,203]\n",
    "new_data=pd.Series(new_price,index=new_car)\n",
    "new_data\n",
    "\n",
    "pd.concat([price_series,new_data])"
   ]
  },
  {
   "cell_type": "code",
   "execution_count": 10,
   "id": "41db0839",
   "metadata": {},
   "outputs": [
    {
     "name": "stdout",
     "output_type": "stream",
     "text": [
      "     Original Price  Discounted Price\n",
      "101           80121           16024.2\n",
      "105           68536           13707.2\n",
      "107           78703           15740.6\n",
      "112           93822           18764.4\n",
      "114           93947           18789.4\n",
      "115           78373           15674.6\n",
      "116           62765           12553.0\n",
      "120           83197           16639.4\n"
     ]
    }
   ],
   "source": [
    "#Task 7\n",
    "#The car dealer is offering a discount of 20% on the cars priced above $60,000. Display the row indexes along with the original and discounted prices of all such cars.\n",
    "\n",
    "discounted_cars = price_series[price_series> 60000]\n",
    "discounted_cars2= discounted_cars* 0.2\n",
    "\n",
    "#Combine the original and discounted prices into a DataFrame\n",
    "result_df = pd.DataFrame({ 'Original Price': discounted_cars, 'Discounted Price': discounted_cars2)\n",
    "\n",
    "print(result_df)"
   ]
  },
  {
   "cell_type": "code",
   "execution_count": 14,
   "id": "04c176ce",
   "metadata": {},
   "outputs": [
    {
     "name": "stdout",
     "output_type": "stream",
     "text": [
      "Updated data after selling cars priced above $60,000:\n",
      "102    48483\n",
      "103    37077\n",
      "104    30660\n",
      "106    52666\n",
      "108    51036\n",
      "109    55643\n",
      "110    56990\n",
      "111    39967\n",
      "113    51406\n",
      "117    47536\n",
      "118    40528\n",
      "119    58780\n",
      "dtype: int64\n",
      "Count of cars before update: 28\n",
      "Count of cars after update: 20\n"
     ]
    }
   ],
   "source": [
    "# Task 8\n",
    "#The cars priced above $60,000 are now sold due to the 20% discount offered by the dealer. Update the data by deleting the details of the cars sold and print the updated data. Display the count of cars before and after the updating of the data\n",
    "\n",
    "#Calculating the discounted prices for cars priced above $60,000 \n",
    "discounted_prices=price_series* (price_series> 60000)*0.2\n",
    "\n",
    "#Deleting the rows of cars priced above $60,000 with the 20% discount \n",
    "car_prices= price_series.drop(discounted_prices[discounted_prices>0].index)\n",
    "\n",
    "#Displaying the updated data\n",
    "print(\"Updated data after selling cars priced above $60,000:\") \n",
    "print(car_prices)\n",
    "\n",
    "# Getting the count of cars before and after the update using shape \n",
    "count_before_update= price_series.shape[0] + discounted_prices [discounted_prices > 0].shape[0] \n",
    "count_after_update= price_series.shape[0] \n",
    "print(\"Count of cars before update:\", count_before_update) \n",
    "print(\"Count of cars after update:\", count_after_update)"
   ]
  },
  {
   "cell_type": "code",
   "execution_count": null,
   "id": "56e2fdc9",
   "metadata": {},
   "outputs": [],
   "source": []
  }
 ],
 "metadata": {
  "kernelspec": {
   "display_name": "Python 3 (ipykernel)",
   "language": "python",
   "name": "python3"
  },
  "language_info": {
   "codemirror_mode": {
    "name": "ipython",
    "version": 3
   },
   "file_extension": ".py",
   "mimetype": "text/x-python",
   "name": "python",
   "nbconvert_exporter": "python",
   "pygments_lexer": "ipython3",
   "version": "3.11.3"
  }
 },
 "nbformat": 4,
 "nbformat_minor": 5
}
